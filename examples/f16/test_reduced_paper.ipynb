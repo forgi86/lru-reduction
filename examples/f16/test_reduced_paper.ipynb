{
 "cells": [
  {
   "cell_type": "code",
   "execution_count": null,
   "metadata": {},
   "outputs": [],
   "source": [
    "import sys\n",
    "sys.path.append(\"../..\")\n",
    "import torch\n",
    "from pathlib import Path\n",
    "import scipy\n",
    "import numpy as np\n",
    "from lru.architectures import DLRU, DLRUConfig\n",
    "from lru.reduction import lru_reduction_pipeline\n",
    "import matplotlib.pyplot as plt\n",
    "import torchid.metrics  # pip install pytorch-ident\n",
    "import copy\n",
    "from plot_utils import set_size, tex_fonts, LINEWIDTH_L_CSS as linewidth"
   ]
  },
  {
   "cell_type": "code",
   "execution_count": null,
   "metadata": {},
   "outputs": [],
   "source": [
    "plt.rcParams.update(tex_fonts) # use latex fonts\n",
    "plt.rcParams.update({\"axes.grid\": True}) "
   ]
  },
  {
   "cell_type": "code",
   "execution_count": null,
   "metadata": {},
   "outputs": [],
   "source": [
    "# Load data\n",
    "data_folder = (\"F16GVT_Files\", \"BenchmarkData\")\n",
    "\n",
    "# file_name = \"F16Data_SineSw_Level5.mat\"\n",
    "#\n",
    "# file_name = \"F16Data_FullMSine_Level7.mat\"\n",
    "# file_name = \"F16Data_FullMSine_Level5.mat\"\n",
    "#file_name = \"F16Data_FullMSine_Level2_Validation.mat\"\n",
    "#file_name = \"F16Data_FullMSine_Level4_Validation.mat\"\n",
    "file_name = \"F16Data_FullMSine_Level6_Validation.mat\"\n",
    "# file_name = \"F16Data_SineSw_Level6_Validation.mat\"\n",
    "file_path = Path(*data_folder) / file_name\n",
    "data = scipy.io.loadmat(file_path)"
   ]
  },
  {
   "cell_type": "code",
   "execution_count": null,
   "metadata": {},
   "outputs": [],
   "source": [
    "#run = \"ckpt_large_no_reg\"\n",
    "run = \"ckpt_large_reg_modal\"  # lasso on eigs abs val\n",
    "#run = \"ckpt_large_reg_hankel\"\n",
    "#run = \"ckpt_large_reg_hankel_cc\"\n"
   ]
  },
  {
   "cell_type": "code",
   "execution_count": null,
   "metadata": {},
   "outputs": [],
   "source": [
    "fig_folder = Path(\"fig\")\n",
    "fig_folder.mkdir(exist_ok=True)"
   ]
  },
  {
   "cell_type": "code",
   "execution_count": null,
   "metadata": {},
   "outputs": [],
   "source": [
    "reduce = False\n",
    "modes = 20 # modes to be kept\n",
    "#reduction_method = \"modal_singular_perturbation\" # modal | balanced_truncation | balanced_truncation_cc\n",
    "#reduction_method = \"balanced_singular_perturbation\"\n",
    "reduction_method = \"modal_singular_perturbation\"\n",
    "#reduction_method = \"balanced_truncation\""
   ]
  },
  {
   "cell_type": "code",
   "execution_count": null,
   "metadata": {},
   "outputs": [],
   "source": [
    "ckpt = torch.load(Path(\"ckpt\")/ f\"{run}.pt\", map_location=\"cpu\")\n",
    "cfg = ckpt[\"cfg\"]\n",
    "scaler_u = ckpt[\"scaler_u\"]\n",
    "scaler_y = ckpt[\"scaler_y\"]"
   ]
  },
  {
   "cell_type": "code",
   "execution_count": null,
   "metadata": {},
   "outputs": [],
   "source": [
    "u_test = data[\"Force\"].T  # Or force\n",
    "y_test = data[\"Acceleration\"].T"
   ]
  },
  {
   "cell_type": "code",
   "execution_count": null,
   "metadata": {},
   "outputs": [],
   "source": [
    "# Load model\n",
    "config = DLRUConfig(\n",
    "    d_model=cfg.d_model, d_state=cfg.d_state, n_layers=cfg.n_layers, ff=cfg.ff\n",
    ")\n",
    "model = DLRU(1, 3, config)\n",
    "model.load_state_dict(ckpt[\"model\"])"
   ]
  },
  {
   "cell_type": "code",
   "execution_count": null,
   "metadata": {},
   "outputs": [],
   "source": [
    "fgw, fgh = set_size(2*linewidth, fraction=1.0)"
   ]
  },
  {
   "cell_type": "code",
   "execution_count": null,
   "metadata": {},
   "outputs": [],
   "source": [
    "\n",
    "fig, ax = plt.subplots(1, config.n_layers, figsize=(fgw, fgw*0.2))\n",
    "#fig, ax = plt.subplots(1, config.n_layers, figsize=set_size(linewidth, fraction=1.0))\n",
    "#fig, ax = plt.subplots(1, config.n_layers, figsize=(3 * config.n_layers, 3.0), sharex=True)#, sharey=True)\n",
    "t = np.linspace(0, 2 * np.pi, 1000)\n",
    "#plt.suptitle(\"Complex eigenvalues\")\n",
    "for idx, layer in enumerate(model.blocks):  # range(config.n_layers):\n",
    "    lambdas, *_ = layer.lru.ss_params()\n",
    "    lambdas = lambdas.detach()\n",
    "    ax[idx].plot(np.cos(t), np.sin(t), \"-k\", linewidth=0.99)\n",
    "    ax[idx].plot(lambdas.real, lambdas.imag, \"k*\", markersize=0.99, alpha=0.4)  # lambdas.real\n",
    "    ax[idx].plot(lambdas.real, -lambdas.imag, \"k*\", markersize=0.99, alpha=0.4)  # lambdas.real\n",
    "    ax[idx].set_box_aspect(1)\n",
    "plt.tight_layout()\n",
    "plt.savefig(fig_folder / f\"{run}_eigs_complex.pdf\")"
   ]
  },
  {
   "cell_type": "code",
   "execution_count": null,
   "metadata": {},
   "outputs": [],
   "source": [
    "fig, ax = plt.subplots(1, config.n_layers, figsize=(fgw, fgw*0.2))\n",
    "#plt.suptitle(\"Eigenvalues absolute value\")\n",
    "t = np.linspace(0, 2 * np.pi, 1000)\n",
    "for idx, layer in enumerate(model.blocks):  # range(config.n_layers):\n",
    "    lambdas, *_ = layer.lru.ss_params()\n",
    "    lambdas = lambdas.detach().numpy()\n",
    "    ax[idx].plot(np.sort(np.abs(lambdas))[::-1], \"k-\")  # lambdas.real\n",
    "    ax[idx].set_ylim([0, 1])\n",
    "    ax[idx].set_box_aspect(1)\n",
    "    ax[idx].plot(np.zeros(lambdas.shape), \"k--\")\n",
    "plt.tight_layout()\n",
    "plt.savefig(fig_folder / f\"{run}_eigs_abs.pdf\")"
   ]
  },
  {
   "cell_type": "code",
   "execution_count": null,
   "metadata": {},
   "outputs": [],
   "source": [
    "#model = model.double()\n",
    "fig, ax = plt.subplots(1, config.n_layers, figsize=(fgw, fgw*0.2))\n",
    "#fig, ax = plt.subplots(1, config.n_layers, figsize=(3 * config.n_layers, 3.0), sharex=True)#, sharey=True)\n",
    "#plt.suptitle(\"Hankel values\")\n",
    "t = np.linspace(0, 2 * np.pi, 1000)\n",
    "for idx, layer in enumerate(model.blocks):  # range(config.n_layers):\n",
    "    #hankel = layer.lru.hankel_singular_values_double(cc=cc_reduction)\n",
    "    hankel = layer.lru.hankel_singular_values(cc=True if reduction_method==\"balanced_truncation_cc\" else False)\n",
    "    hankel = hankel.detach().numpy()\n",
    "    ax[idx].plot(hankel, \"k\", alpha=0.99)\n",
    "    ax[idx].plot(np.zeros(hankel.shape), \"k--\")\n",
    "    ax[idx].set_box_aspect(1) \n",
    "#ax[0].set_ylim([0, 0.1])\n",
    "#ax[0].set_xlim([0, 20])\n",
    "plt.tight_layout()\n",
    "plt.savefig(fig_folder / f\"{run}_hankel.pdf\")"
   ]
  },
  {
   "cell_type": "code",
   "execution_count": null,
   "metadata": {},
   "outputs": [],
   "source": [
    "model_reduced = copy.deepcopy(model)\n",
    "\n",
    "if reduce:\n",
    "    for block in model_reduced.blocks:\n",
    "\n",
    "        # reduction pipeline\n",
    "        ss_params = block.lru.ss_params()\n",
    "        ss_params = [param.detach().numpy() for param in ss_params]\n",
    "        lambdas, B, C, D = ss_params\n",
    "        lambdas_red, B_red, C_red, D_red = lru_reduction_pipeline(lambdas, B, C, D,  modes=modes, method=reduction_method)\n",
    "\n",
    "\n",
    "        params_red = [lambdas_red.astype(np.complex64), B_red.astype(np.complex64), C_red.astype(np.complex64), D_red.astype(np.float32)]\n",
    "        params_red = [torch.tensor(param_red) for param_red in params_red]\n",
    "        block.lru.replace_ss_params(*params_red)"
   ]
  },
  {
   "cell_type": "code",
   "execution_count": null,
   "metadata": {},
   "outputs": [],
   "source": [
    "model_reduced.blocks[5].lru.nu_log.shape, model.blocks[0].lru.nu_log.shape"
   ]
  },
  {
   "cell_type": "code",
   "execution_count": null,
   "metadata": {},
   "outputs": [],
   "source": [
    "params = sum(map(torch.numel, model.parameters()))\n",
    "params_red = sum(map(torch.numel, model_reduced.parameters()))\n",
    "reduction = 100 * (1 - params_red / params)\n",
    "print(f\"{params} original paramers...\\n{params_red} original paramers\\n{reduction}% parameter reduction\")"
   ]
  },
  {
   "cell_type": "code",
   "execution_count": null,
   "metadata": {},
   "outputs": [],
   "source": [
    "ut = torch.tensor(scaler_u.transform(u_test)).unsqueeze(0).float()\n",
    "with torch.no_grad():\n",
    "    #    y_test_hat = model(ut, mode=\"scan\").squeeze(0).to(\"cpu\").numpy()\n",
    "    y_test_hat = model_reduced(ut, mode=\"scan\").squeeze(0).to(\"cpu\").numpy()\n",
    "\n",
    "y_test_hat = scaler_y.inverse_transform(y_test_hat)"
   ]
  },
  {
   "cell_type": "code",
   "execution_count": null,
   "metadata": {},
   "outputs": [],
   "source": [
    "plt.figure()\n",
    "plt.plot(y_test[:, 0], \"k\")\n",
    "plt.plot(y_test_hat[:, 0], \"b\")\n",
    "plt.plot(y_test_hat[:, 0] - y_test[:, 0], \"r\")"
   ]
  },
  {
   "cell_type": "code",
   "execution_count": null,
   "metadata": {},
   "outputs": [],
   "source": [
    "fit = torchid.metrics.fit_index(y_test, y_test_hat)\n",
    "rmse = torchid.metrics.rmse(y_test, y_test_hat) * 100\n",
    "nrmse = torchid.metrics.nrmse(y_test, y_test_hat) * 100\n",
    "\n",
    "np.set_printoptions(precision=1)\n",
    "print(f\"{fit=} \\n{rmse=} \\n{nrmse=}\")"
   ]
  },
  {
   "cell_type": "markdown",
   "metadata": {},
   "source": [
    "Results on \"F16Data_FullMSine_Level6_Validation.mat\", no MOR\n",
    "\n",
    "no_reg:\n",
    "\n",
    "fit=array([86.55459738, 90.08863281, 76.25738613])\n",
    "\n",
    "rmse=array([18.00991169, 16.72490559, 36.77659407])\n",
    "\n",
    "nrmse=array([0.13445403, 0.09911367, 0.23742614])\n",
    "\n",
    "\n",
    "reg_modal:\n",
    "\n",
    "fit=array([85.47068315, 89.83750936, 74.46776937]) \n",
    "\n",
    "rmse=array([19.46179826, 17.14866306, 39.54865656]) \n",
    "\n",
    "nrmse=array([0.14529317, 0.10162491, 0.25532231])\n",
    "\n",
    "\n",
    "reg_hankel:\n",
    "\n",
    "fit=array([85.80137479, 89.02136512, 75.51860243]) \n",
    "\n",
    "rmse=array([19.01884186, 18.52586312, 37.92094778]) \n",
    "\n",
    "nrmse=array([0.14198625, 0.10978635, 0.24481398])\n",
    "\n"
   ]
  },
  {
   "cell_type": "code",
   "execution_count": null,
   "metadata": {},
   "outputs": [],
   "source": [
    "plt.figure()\n",
    "plt.plot(ckpt[\"LOSS\"])\n",
    "#plt.ylim([0.0, 0.2])"
   ]
  }
 ],
 "metadata": {
  "kernelspec": {
   "display_name": "dev",
   "language": "python",
   "name": "python3"
  },
  "language_info": {
   "codemirror_mode": {
    "name": "ipython",
    "version": 3
   },
   "file_extension": ".py",
   "mimetype": "text/x-python",
   "name": "python",
   "nbconvert_exporter": "python",
   "pygments_lexer": "ipython3",
   "version": "3.11.0"
  }
 },
 "nbformat": 4,
 "nbformat_minor": 2
}
