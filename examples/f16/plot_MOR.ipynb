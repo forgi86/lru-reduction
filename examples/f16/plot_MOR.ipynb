{
 "cells": [
  {
   "cell_type": "code",
   "execution_count": null,
   "metadata": {},
   "outputs": [],
   "source": [
    "import sys\n",
    "sys.path.append(\"../..\")\n",
    "from pathlib import Path\n",
    "import numpy as np\n",
    "import xarray\n",
    "import matplotlib.pyplot as plt\n",
    "from plot_utils import set_size, tex_fonts, LINEWIDTH_L_CSS as linewidth"
   ]
  },
  {
   "cell_type": "code",
   "execution_count": null,
   "metadata": {},
   "outputs": [],
   "source": [
    "plt.rcParams.update(tex_fonts) # use latex fonts\n",
    "plt.rcParams.update({\"axes.grid\": True}) "
   ]
  },
  {
   "cell_type": "code",
   "execution_count": null,
   "metadata": {},
   "outputs": [],
   "source": [
    "fit_mean_all = xarray.load_dataarray(\"fit_mean_all.nc\")\n",
    "FIT_THRESHOLD = 83.25865396027804*0.99"
   ]
  },
  {
   "cell_type": "code",
   "execution_count": null,
   "metadata": {},
   "outputs": [],
   "source": [
    "modes, truncation_method, runs = fit_mean_all.indexes.values()\n",
    "modes = modes\n",
    "modes_deleted = modes[0] - modes"
   ]
  },
  {
   "cell_type": "code",
   "execution_count": null,
   "metadata": {},
   "outputs": [],
   "source": [
    "#fig, ax = plt.subplots()\n",
    "fig, ax = plt.subplots(1, 1, figsize=set_size(linewidth, fraction=1.0))\n",
    "#ax.plot(modes, fit_mean_all.loc[\"ckpt_large_no_reg\", \"balanced_truncation\"])\n",
    "ax.plot(modes_deleted, fit_mean_all.loc[\"ckpt_large_reg_hankel\", \"balanced_singular_perturbation\"], \"-\", label=\"Hankel nuclear norm/BSP\")\n",
    "ax.plot(modes_deleted, fit_mean_all.loc[\"ckpt_large_reg_modal\", \"modal_singular_perturbation\"], \"--\", label=\"Modal LASSO/MSP\")\n",
    "ax.plot(modes_deleted, fit_mean_all.loc[\"ckpt_large_no_reg\", \"balanced_singular_perturbation\"], \"-.\", label=\"No Regularization/BSP\")\n",
    "\n",
    "#ax.axhline(FIT_THRESHOLD, color=\"red\")\n",
    "#ax.invert_xaxis()\n",
    "ax.grid(True)\n",
    "ax.set_xlabel(\"Number of eliminated modes (-)\")\n",
    "ax.set_ylabel(\"Average \\emph{fit} (\\%)\")\n",
    "ax.legend();\n",
    "plt.tight_layout()\n",
    "plt.savefig(Path(\"fig\")/ \"MOR_regularization.pdf\")"
   ]
  },
  {
   "cell_type": "code",
   "execution_count": null,
   "metadata": {},
   "outputs": [],
   "source": [
    "min_order = xarray.DataArray(coords=(runs, truncation_method))\n",
    "for run in fit_mean_all.coords[\"run\"]:\n",
    "    for method in fit_mean_all.coords[\"truncation_method\"]:\n",
    "        fit_seq = fit_mean_all.loc[run, method]\n",
    "        min_order.loc[run, method] = np.min(fit_seq[fit_seq >= FIT_THRESHOLD].modes)\n",
    "min_order"
   ]
  },
  {
   "cell_type": "code",
   "execution_count": null,
   "metadata": {},
   "outputs": [],
   "source": [
    "max_deleted = modes.max() - min_order\n",
    "max_deleted"
   ]
  }
 ],
 "metadata": {
  "kernelspec": {
   "display_name": "dev",
   "language": "python",
   "name": "python3"
  },
  "language_info": {
   "codemirror_mode": {
    "name": "ipython",
    "version": 3
   },
   "file_extension": ".py",
   "mimetype": "text/x-python",
   "name": "python",
   "nbconvert_exporter": "python",
   "pygments_lexer": "ipython3",
   "version": "3.11.0"
  }
 },
 "nbformat": 4,
 "nbformat_minor": 2
}
