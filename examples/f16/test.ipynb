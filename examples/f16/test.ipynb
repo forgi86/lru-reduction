{
 "cells": [
  {
   "cell_type": "code",
   "execution_count": null,
   "metadata": {},
   "outputs": [],
   "source": [
    "import sys\n",
    "sys.path.append(\"../..\")\n",
    "import torch\n",
    "from pathlib import Path\n",
    "import scipy\n",
    "from lru.architectures import DLRU, DLRUConfig\n",
    "import matplotlib.pyplot as plt\n",
    "import torchid.metrics # pip install pytorch-ident"
   ]
  },
  {
   "cell_type": "code",
   "execution_count": null,
   "metadata": {},
   "outputs": [],
   "source": [
    "#%matplotlib widget"
   ]
  },
  {
   "cell_type": "code",
   "execution_count": null,
   "metadata": {},
   "outputs": [],
   "source": [
    "# Load data (to be embedded)\n",
    "data_folder = (\"F16GVT_Files\", \"BenchmarkData\")\n",
    "\n",
    "#file_name = \"F16Data_SineSw_Level5.mat\"\n",
    "#\n",
    "#file_name = \"F16Data_FullMSine_Level7.mat\"\n",
    "#file_name = \"F16Data_FullMSine_Level5.mat\"\n",
    "\n",
    "\n",
    "#file_name = \"F16Data_FullMSine_Level4_Validation.mat\"\n",
    "file_name = \"F16Data_FullMSine_Level6_Validation.mat\"\n",
    "#file_name = \"F16Data_SineSw_Level6_Validation.mat\"\n",
    "file_path = Path(*data_folder) / file_name\n",
    "data = scipy.io.loadmat(file_path)"
   ]
  },
  {
   "cell_type": "code",
   "execution_count": null,
   "metadata": {},
   "outputs": [],
   "source": [
    "run = \"ckpt_large_no_reg\"\n",
    "#run = \"ckpt_large_reg_modal\"\n",
    "#run = \"ckpt_large_reg\" # lasso on eigs abs val\n",
    "#run = \"ckpt_large_no_reg_last\"\n",
    "#run = \"ckpt_small_no_reg\"\n",
    "#run = \"ckpt_small_reg\""
   ]
  },
  {
   "cell_type": "code",
   "execution_count": null,
   "metadata": {},
   "outputs": [],
   "source": [
    "ckpt = torch.load(Path(\"ckpt\")/ f\"{run}.pt\", map_location=\"cpu\")\n",
    "cfg = ckpt[\"cfg\"]\n",
    "scaler_u = ckpt[\"scaler_u\"]\n",
    "scaler_y = ckpt[\"scaler_y\"]"
   ]
  },
  {
   "cell_type": "code",
   "execution_count": null,
   "metadata": {},
   "outputs": [],
   "source": [
    "u_test = data[\"Force\"].T # Or force\n",
    "y_test = data[\"Acceleration\"].T"
   ]
  },
  {
   "cell_type": "code",
   "execution_count": null,
   "metadata": {},
   "outputs": [],
   "source": [
    "# Load model\n",
    "cfg = ckpt[\"cfg\"]\n",
    "config = DLRUConfig(d_model=cfg.d_model,d_state=cfg.d_state, n_layers=cfg.n_layers, ff=cfg.ff)\n",
    "model = DLRU(1, 3, config)\n",
    "model.load_state_dict(ckpt[\"model\"])"
   ]
  },
  {
   "cell_type": "code",
   "execution_count": null,
   "metadata": {},
   "outputs": [],
   "source": [
    "sum(map(torch.numel, model.parameters()))"
   ]
  },
  {
   "cell_type": "code",
   "execution_count": null,
   "metadata": {},
   "outputs": [],
   "source": [
    "ut = torch.tensor(scaler_u.transform(u_test)).unsqueeze(0).float()\n",
    "with torch.no_grad():\n",
    "    y_test_hat = model(ut, mode=\"scan\").squeeze(0).to(\"cpu\").numpy()\n",
    "\n",
    "y_test_hat = scaler_y.inverse_transform(y_test_hat)"
   ]
  },
  {
   "cell_type": "code",
   "execution_count": null,
   "metadata": {},
   "outputs": [],
   "source": [
    "plt.figure()\n",
    "plt.plot(y_test[:, 0], \"k\")\n",
    "plt.plot(y_test_hat[:, 0], \"b\")\n",
    "plt.plot(y_test_hat[:, 0] - y_test[:, 0], \"r\")"
   ]
  },
  {
   "cell_type": "code",
   "execution_count": null,
   "metadata": {},
   "outputs": [],
   "source": [
    "fit = torchid.metrics.fit_index(y_test, y_test_hat)\n",
    "rmse = torchid.metrics.rmse(y_test, y_test_hat)\n",
    "nrmse = torchid.metrics.nrmse(y_test, y_test_hat)\n",
    "\n",
    "\n",
    "print(f\"{fit=} \\n{rmse=} \\n{nrmse=}\")"
   ]
  },
  {
   "cell_type": "markdown",
   "metadata": {},
   "source": [
    "Results on \"F16Data_FullMSine_Level6_Validation.mat\", non-regularized model:\n",
    "\n",
    "fit=array([86.69775422, 90.17415163, 76.63687079]) \n",
    "\n",
    "rmse=array([17.81815528, 16.58059711, 36.18878376]) \n",
    "\n",
    "nrmse=array([0.13302246, 0.09825848, 0.23363129])"
   ]
  },
  {
   "cell_type": "code",
   "execution_count": null,
   "metadata": {},
   "outputs": [],
   "source": [
    "fit.mean()"
   ]
  },
  {
   "cell_type": "code",
   "execution_count": null,
   "metadata": {},
   "outputs": [],
   "source": [
    "plt.figure()\n",
    "plt.plot(ckpt[\"LOSS\"])\n",
    "plt.ylim([0.0, 0.2])"
   ]
  },
  {
   "cell_type": "code",
   "execution_count": null,
   "metadata": {},
   "outputs": [],
   "source": [
    "matlab_dict = {}\n",
    "for idx, block in enumerate(model.blocks):\n",
    "    A, B, C, D = block.lru.ss_real_matrices()\n",
    "    matlab_dict[f\"layer{idx}\"] = {\"A\": A, \"B\": B, \"C\": C, \"D\": D}"
   ]
  },
  {
   "cell_type": "code",
   "execution_count": null,
   "metadata": {},
   "outputs": [],
   "source": [
    "# import scipy.io as sio\n",
    "# sio.savemat(f\"lti_matrices_{run}.mat\", matlab_dict)"
   ]
  },
  {
   "cell_type": "code",
   "execution_count": null,
   "metadata": {},
   "outputs": [],
   "source": [
    "import numpy as np\n",
    "#plt.figure(figsize=(2*config.n_layers+2, 2))\n",
    "fig, ax = plt.subplots(1, config.n_layers, figsize=(2*config.n_layers, 2.5))\n",
    "t = np.linspace(0, 2*np.pi, 1000)\n",
    "for idx, layer in enumerate(model.blocks):#range(config.n_layers):\n",
    "    lambdas, B, C, D = layer.lru.ss_params()\n",
    "    lambdas = lambdas.detach()\n",
    "    ax[idx].plot(np.cos(t), np.sin(t), \"-k\")\n",
    "    ax[idx].plot(lambdas.real, lambdas.imag, \"k*\")#lambdas.real\n",
    "    ax[idx].plot(lambdas.real, -lambdas.imag, \"k*\")#lambdas.real\n",
    "    ax[idx].set_box_aspect(1)"
   ]
  },
  {
   "cell_type": "code",
   "execution_count": null,
   "metadata": {},
   "outputs": [],
   "source": [
    "fig, ax = plt.subplots(1, config.n_layers, figsize=(3 * config.n_layers, 3.0))\n",
    "fig.suptitle(\"Eigenvalues absolute values\")\n",
    "for idx, layer in enumerate(model.blocks):  # range(config.n_layers):\n",
    "    lambdas, *_ = layer.lru.ss_params()\n",
    "    lambdas = lambdas.detach().numpy()\n",
    "    ax[idx].plot(np.sort(np.abs(lambdas))[::-1], \"k*\")  # lambdas.real\n",
    "    ax[idx].set_box_aspect(1)\n",
    "plt.tight_layout()"
   ]
  }
 ],
 "metadata": {
  "kernelspec": {
   "display_name": "dev",
   "language": "python",
   "name": "python3"
  },
  "language_info": {
   "codemirror_mode": {
    "name": "ipython",
    "version": 3
   },
   "file_extension": ".py",
   "mimetype": "text/x-python",
   "name": "python",
   "nbconvert_exporter": "python",
   "pygments_lexer": "ipython3",
   "version": "3.11.0"
  }
 },
 "nbformat": 4,
 "nbformat_minor": 2
}
