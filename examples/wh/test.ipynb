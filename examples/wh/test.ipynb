{
 "cells": [
  {
   "cell_type": "code",
   "execution_count": null,
   "metadata": {},
   "outputs": [],
   "source": [
    "import sys\n",
    "sys.path.append(\"../..\")\n",
    "import torch\n",
    "from lru.architectures import DLRU, DLRUConfig\n",
    "import matplotlib.pyplot as plt\n",
    "import torch \n",
    "import torchid.metrics # pip install pytorch-ident\n",
    "import nonlinear_benchmarks\n",
    "import math"
   ]
  },
  {
   "cell_type": "code",
   "execution_count": null,
   "metadata": {},
   "outputs": [],
   "source": [
    "%matplotlib widget"
   ]
  },
  {
   "cell_type": "code",
   "execution_count": null,
   "metadata": {},
   "outputs": [],
   "source": [
    "ckpt = torch.load(\"ckpt_no_reg.pt\", map_location=\"cpu\")\n",
    "#ckpt = torch.load(\"ckpt_hankel_reg.pt\", map_location=\"cpu\")"
   ]
  },
  {
   "cell_type": "code",
   "execution_count": null,
   "metadata": {},
   "outputs": [],
   "source": [
    "cfg = ckpt[\"cfg\"]\n",
    "config = DLRUConfig(d_model=cfg.d_model, d_state=cfg.d_state, n_layers=cfg.n_layers, ff=cfg.ff, max_phase=math.pi)\n",
    "model = DLRU(1, 1, config)"
   ]
  },
  {
   "cell_type": "code",
   "execution_count": null,
   "metadata": {},
   "outputs": [],
   "source": [
    "train_val, test = nonlinear_benchmarks.WienerHammerBenchMark()\n",
    "sampling_time = train_val.sampling_time #in seconds\n",
    "u_train, y_train = train_val #or train_val.u, train_val.y\n",
    "u_test, y_test = test        #or test.u,      test.y\n",
    "\n",
    "u_train = u_train.reshape(-1, 1)\n",
    "y_train = y_train.reshape(-1, 1)\n",
    "u_test = u_test.reshape(-1, 1)\n",
    "y_test = y_test.reshape(-1, 1)"
   ]
  },
  {
   "cell_type": "code",
   "execution_count": null,
   "metadata": {},
   "outputs": [],
   "source": [
    "ckpt[\"cfg\"]"
   ]
  },
  {
   "cell_type": "code",
   "execution_count": null,
   "metadata": {},
   "outputs": [],
   "source": [
    "scaler_u = ckpt[\"scaler_u\"]\n",
    "scaler_y = ckpt[\"scaler_y\"]"
   ]
  },
  {
   "cell_type": "code",
   "execution_count": null,
   "metadata": {},
   "outputs": [],
   "source": [
    "\n",
    "config = DWNConfig(d_model=5, d_state=16, n_layers=3, ff=\"MLP\")\n",
    "model = DWN(1, 1, config)\n",
    "model.load_state_dict(ckpt[\"model\"])"
   ]
  },
  {
   "cell_type": "code",
   "execution_count": null,
   "metadata": {},
   "outputs": [],
   "source": [
    "sum(map(torch.numel, model.parameters()))"
   ]
  },
  {
   "cell_type": "code",
   "execution_count": null,
   "metadata": {},
   "outputs": [],
   "source": [
    "ut = torch.tensor(scaler_u.transform(u_test)).unsqueeze(0).float()\n",
    "with torch.no_grad():\n",
    "    y_test_hat = model(ut, mode=\"loop\").squeeze(0).to(\"cpu\").numpy()\n",
    "\n",
    "y_test_hat = scaler_y.inverse_transform(y_test_hat)"
   ]
  },
  {
   "cell_type": "code",
   "execution_count": null,
   "metadata": {},
   "outputs": [],
   "source": [
    "plt.figure()\n",
    "plt.plot(ckpt[\"LOSS\"])\n",
    "\n",
    "plt.figure()\n",
    "#plt.ion()\n",
    "plt.plot(y_test, \"k\")\n",
    "plt.plot(y_test_hat, \"b\")\n",
    "plt.show()\n",
    "plt.savefig(\"fit.pdf\")"
   ]
  },
  {
   "cell_type": "code",
   "execution_count": null,
   "metadata": {},
   "outputs": [],
   "source": [
    "rmse = torchid.metrics.rmse(y_test, y_test_hat)[0]*1000\n",
    "fit = torchid.metrics.fit_index(y_test, y_test_hat)[0]\n",
    "\n",
    "print(f\"{rmse=} mV\\n{fit=}\")"
   ]
  },
  {
   "cell_type": "code",
   "execution_count": null,
   "metadata": {},
   "outputs": [],
   "source": [
    "lambdas, B, C, D = model.blocks[2].lru.ss_params()\n",
    "lambdas = lambdas.detach()"
   ]
  },
  {
   "cell_type": "code",
   "execution_count": null,
   "metadata": {},
   "outputs": [],
   "source": [
    "import numpy as np\n",
    "#plt.figure(figsize=(2*config.n_layers+2, 2))\n",
    "fig, ax = plt.subplots(1, config.n_layers, figsize=(10,5))\n",
    "t = np.linspace(0, 2*np.pi, 1000)\n",
    "for idx, layer in enumerate(model.blocks):#range(config.n_layers):\n",
    "    lambdas, B, C, D = model.blocks[idx].lru.ss_params()\n",
    "    lambdas = lambdas.detach()\n",
    "    ax[idx].plot(np.cos(t), np.sin(t), \"-k\")\n",
    "    ax[idx].plot(lambdas.real, lambdas.imag, \"k*\")#lambdas.real\n",
    "    ax[idx].plot(lambdas.real, -lambdas.imag, \"k*\")#lambdas.real\n",
    "    ax[idx].set_box_aspect(1)"
   ]
  },
  {
   "cell_type": "code",
   "execution_count": null,
   "metadata": {},
   "outputs": [],
   "source": [
    "matlab_dict = {}\n",
    "for idx, block in enumerate(model.blocks):\n",
    "    A, B, C, D = block.lru.ss_real_matrices()\n",
    "    matlab_dict[f\"layer{idx}\"] = {\"A\": A, \"B\": B, \"C\": C, \"D\": D}"
   ]
  },
  {
   "cell_type": "code",
   "execution_count": null,
   "metadata": {},
   "outputs": [],
   "source": [
    "import scipy.io as sio\n",
    "sio.savemat(\"lti_matrices.mat\", matlab_dict)"
   ]
  }
 ],
 "metadata": {
  "kernelspec": {
   "display_name": "Python 3 (ipykernel)",
   "language": "python",
   "name": "python3"
  },
  "language_info": {
   "codemirror_mode": {
    "name": "ipython",
    "version": 3
   },
   "file_extension": ".py",
   "mimetype": "text/x-python",
   "name": "python",
   "nbconvert_exporter": "python",
   "pygments_lexer": "ipython3",
   "version": "3.11.0"
  }
 },
 "nbformat": 4,
 "nbformat_minor": 4
}
